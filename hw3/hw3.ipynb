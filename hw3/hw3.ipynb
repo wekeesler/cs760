{
 "cells": [
  {
   "cell_type": "markdown",
   "source": [
    "Will Keesler\n",
    "\n",
    "CS 760\n",
    "\n",
    "Spring 2023 Homework 3"
   ],
   "metadata": {
    "collapsed": false
   }
  },
  {
   "cell_type": "code",
   "execution_count": 1,
   "outputs": [],
   "source": [
    "import math\n",
    "import matplotlib.pyplot as plt\n",
    "import numpy as np\n",
    "import pandas as pd\n",
    "\n",
    "from sklearn.neighbors import KNeighborsClassifier"
   ],
   "metadata": {
    "collapsed": false
   }
  },
  {
   "cell_type": "markdown",
   "source": [
    "## Part 1\n",
    "\n",
    "### Question 2\n",
    "\n",
    "#### a."
   ],
   "metadata": {
    "collapsed": false
   }
  },
  {
   "cell_type": "code",
   "execution_count": 2,
   "outputs": [
    {
     "data": {
      "text/plain": "   X_1  X_2  X_3      Y\n0    0    3    0    Red\n1    2    0    0    Red\n2    0    1    3    Red\n3    0    1    2  Green\n4   -1    0    1  Green\n5    1    1    1    Red",
      "text/html": "<div>\n<style scoped>\n    .dataframe tbody tr th:only-of-type {\n        vertical-align: middle;\n    }\n\n    .dataframe tbody tr th {\n        vertical-align: top;\n    }\n\n    .dataframe thead th {\n        text-align: right;\n    }\n</style>\n<table border=\"1\" class=\"dataframe\">\n  <thead>\n    <tr style=\"text-align: right;\">\n      <th></th>\n      <th>X_1</th>\n      <th>X_2</th>\n      <th>X_3</th>\n      <th>Y</th>\n    </tr>\n  </thead>\n  <tbody>\n    <tr>\n      <th>0</th>\n      <td>0</td>\n      <td>3</td>\n      <td>0</td>\n      <td>Red</td>\n    </tr>\n    <tr>\n      <th>1</th>\n      <td>2</td>\n      <td>0</td>\n      <td>0</td>\n      <td>Red</td>\n    </tr>\n    <tr>\n      <th>2</th>\n      <td>0</td>\n      <td>1</td>\n      <td>3</td>\n      <td>Red</td>\n    </tr>\n    <tr>\n      <th>3</th>\n      <td>0</td>\n      <td>1</td>\n      <td>2</td>\n      <td>Green</td>\n    </tr>\n    <tr>\n      <th>4</th>\n      <td>-1</td>\n      <td>0</td>\n      <td>1</td>\n      <td>Green</td>\n    </tr>\n    <tr>\n      <th>5</th>\n      <td>1</td>\n      <td>1</td>\n      <td>1</td>\n      <td>Red</td>\n    </tr>\n  </tbody>\n</table>\n</div>"
     },
     "execution_count": 2,
     "metadata": {},
     "output_type": "execute_result"
    }
   ],
   "source": [
    "df = pd.DataFrame({\n",
    "    \"X_1\": [0,2,0,0,-1,1],\n",
    "    \"X_2\": [3,0,1,1,0,1],\n",
    "    \"X_3\": [0,0,3,2,1,1],\n",
    "    \"Y\": [\"Red\", \"Red\", \"Red\", \"Green\", \"Green\", \"Red\"],\n",
    "})\n",
    "df.head(10)"
   ],
   "metadata": {
    "collapsed": false
   }
  },
  {
   "cell_type": "code",
   "execution_count": 3,
   "outputs": [
    {
     "data": {
      "text/plain": "   X_1  X_2  X_3      Y       d_E\n0    0    3    0    Red  3.000000\n1    2    0    0    Red  2.000000\n2    0    1    3    Red  3.162278\n3    0    1    2  Green  2.236068\n4   -1    0    1  Green  1.414214\n5    1    1    1    Red  1.732051",
      "text/html": "<div>\n<style scoped>\n    .dataframe tbody tr th:only-of-type {\n        vertical-align: middle;\n    }\n\n    .dataframe tbody tr th {\n        vertical-align: top;\n    }\n\n    .dataframe thead th {\n        text-align: right;\n    }\n</style>\n<table border=\"1\" class=\"dataframe\">\n  <thead>\n    <tr style=\"text-align: right;\">\n      <th></th>\n      <th>X_1</th>\n      <th>X_2</th>\n      <th>X_3</th>\n      <th>Y</th>\n      <th>d_E</th>\n    </tr>\n  </thead>\n  <tbody>\n    <tr>\n      <th>0</th>\n      <td>0</td>\n      <td>3</td>\n      <td>0</td>\n      <td>Red</td>\n      <td>3.000000</td>\n    </tr>\n    <tr>\n      <th>1</th>\n      <td>2</td>\n      <td>0</td>\n      <td>0</td>\n      <td>Red</td>\n      <td>2.000000</td>\n    </tr>\n    <tr>\n      <th>2</th>\n      <td>0</td>\n      <td>1</td>\n      <td>3</td>\n      <td>Red</td>\n      <td>3.162278</td>\n    </tr>\n    <tr>\n      <th>3</th>\n      <td>0</td>\n      <td>1</td>\n      <td>2</td>\n      <td>Green</td>\n      <td>2.236068</td>\n    </tr>\n    <tr>\n      <th>4</th>\n      <td>-1</td>\n      <td>0</td>\n      <td>1</td>\n      <td>Green</td>\n      <td>1.414214</td>\n    </tr>\n    <tr>\n      <th>5</th>\n      <td>1</td>\n      <td>1</td>\n      <td>1</td>\n      <td>Red</td>\n      <td>1.732051</td>\n    </tr>\n  </tbody>\n</table>\n</div>"
     },
     "execution_count": 3,
     "metadata": {},
     "output_type": "execute_result"
    }
   ],
   "source": [
    "t = np.array([0,0,0])\n",
    "df.assign(d_E=df.apply(lambda x: math.sqrt(sum(np.square(x[0:3] - t))), axis=1))"
   ],
   "metadata": {
    "collapsed": false
   }
  },
  {
   "cell_type": "markdown",
   "source": [
    "### Question 3\n",
    "\n",
    "#### a."
   ],
   "metadata": {
    "collapsed": false
   }
  },
  {
   "cell_type": "code",
   "execution_count": 4,
   "outputs": [
    {
     "name": "stdout",
     "output_type": "stream",
     "text": [
      "0.0975\n"
     ]
    }
   ],
   "source": [
    "E = 0.1*0.95 - 0.1*0.05 + 0.05**2 + 0.1*0.05\n",
    "print(f\"{E:2.4f}\")"
   ],
   "metadata": {
    "collapsed": false
   }
  },
  {
   "cell_type": "markdown",
   "source": [
    "#### b."
   ],
   "metadata": {
    "collapsed": false
   }
  },
  {
   "cell_type": "markdown",
   "source": [
    "#### c."
   ],
   "metadata": {
    "collapsed": false
   }
  },
  {
   "cell_type": "markdown",
   "source": [
    "#### d."
   ],
   "metadata": {
    "collapsed": false
   }
  },
  {
   "cell_type": "markdown",
   "source": [
    "#### e."
   ],
   "metadata": {
    "collapsed": false
   }
  },
  {
   "cell_type": "markdown",
   "source": [
    "### Question 4"
   ],
   "metadata": {
    "collapsed": false
   }
  },
  {
   "cell_type": "code",
   "execution_count": 5,
   "outputs": [],
   "source": [
    "TP = 8\n",
    "TN = 974\n",
    "FP = 16\n",
    "FN = 2"
   ],
   "metadata": {
    "collapsed": false
   }
  },
  {
   "cell_type": "markdown",
   "source": [
    "#### a."
   ],
   "metadata": {
    "collapsed": false
   }
  },
  {
   "cell_type": "code",
   "execution_count": 6,
   "outputs": [
    {
     "name": "stdout",
     "output_type": "stream",
     "text": [
      "Accuracy = 0.982\n"
     ]
    }
   ],
   "source": [
    "accuracy = (TP+TN)/(TP+TN+FP+FN)\n",
    "print(f\"Accuracy = {accuracy}\")"
   ],
   "metadata": {
    "collapsed": false
   }
  },
  {
   "cell_type": "markdown",
   "source": [
    "#### b."
   ],
   "metadata": {
    "collapsed": false
   }
  },
  {
   "cell_type": "code",
   "execution_count": 7,
   "outputs": [
    {
     "name": "stdout",
     "output_type": "stream",
     "text": [
      "Precision = 0.3333333333333333\n"
     ]
    }
   ],
   "source": [
    "precision = TP/(TP+FP)\n",
    "print(f\"Precision = {precision}\")"
   ],
   "metadata": {
    "collapsed": false
   }
  },
  {
   "cell_type": "markdown",
   "source": [
    "#### c."
   ],
   "metadata": {
    "collapsed": false
   }
  },
  {
   "cell_type": "code",
   "execution_count": 8,
   "outputs": [
    {
     "name": "stdout",
     "output_type": "stream",
     "text": [
      "Recall = 0.8\n"
     ]
    }
   ],
   "source": [
    "recall = TP/(TP+FN)\n",
    "print(f\"Recall = {recall}\")"
   ],
   "metadata": {
    "collapsed": false
   }
  },
  {
   "cell_type": "markdown",
   "source": [
    "### Question 5"
   ],
   "metadata": {
    "collapsed": false
   }
  },
  {
   "cell_type": "code",
   "execution_count": 9,
   "outputs": [
    {
     "data": {
      "text/plain": "<Figure size 432x288 with 1 Axes>",
      "image/png": "[encoded data removed]"
     },
     "metadata": {
      "needs_background": "light"
     },
     "output_type": "display_data"
    }
   ],
   "source": [
    "tp = [0, 2/6, 4/6, 6/6, 6/6]\n",
    "fp = [0, 0/4, 1/4, 2/4, 4/4]\n",
    "plt.plot(fp, tp)\n",
    "plt.plot([0, 1], [0, 1], linestyle='--')\n",
    "plt.xlim([0.0, 1.0])\n",
    "plt.ylim([0.0, 1.0])\n",
    "plt.xlabel('False Positive Rate')\n",
    "plt.ylabel('True Positive Rate')\n",
    "plt.savefig('q1_5_roc.png')"
   ],
   "metadata": {
    "collapsed": false
   }
  },
  {
   "cell_type": "markdown",
   "source": [
    "### Question 6\n",
    "\n",
    "#### b."
   ],
   "metadata": {
    "collapsed": false
   }
  },
  {
   "cell_type": "code",
   "execution_count": 10,
   "outputs": [
    {
     "name": "stdout",
     "output_type": "stream",
     "text": [
      "[0.05 0.15 0.1 ]\n"
     ]
    }
   ],
   "source": [
    "theta_0 = np.array([0,0,0])\n",
    "x = np.array([1,3,2])\n",
    "y = 1\n",
    "eta = 0.1\n",
    "theta_1 = theta_0 - eta * (1/(1+math.exp(-np.dot(theta_0, x))) - y) * x\n",
    "print(theta_1)"
   ],
   "metadata": {
    "collapsed": false
   }
  },
  {
   "cell_type": "markdown",
   "source": [
    "## Part 2\n",
    "\n",
    "### Question 1"
   ],
   "metadata": {
    "collapsed": false
   }
  },
  {
   "cell_type": "code",
   "execution_count": 11,
   "outputs": [
    {
     "data": {
      "text/plain": "KNeighborsClassifier(n_neighbors=1)"
     },
     "execution_count": 11,
     "metadata": {},
     "output_type": "execute_result"
    }
   ],
   "source": [
    "D2z_df = pd.read_csv(\"data/D2z.txt\", header=None, sep=\" \")\n",
    "train_X = D2z_df[[0, 1]]\n",
    "train_y = D2z_df[[2]].to_numpy(dtype=bool).flatten()\n",
    "knn_clf = KNeighborsClassifier(n_neighbors=1, p=2)\n",
    "knn_clf.fit(train_X, train_y)"
   ],
   "metadata": {
    "collapsed": false
   }
  },
  {
   "cell_type": "code",
   "execution_count": 12,
   "outputs": [],
   "source": [
    "test_1, test_2 = np.meshgrid(\n",
    "    np.linspace(-2, 2, num=41, endpoint=True),\n",
    "    np.linspace(-2, 2, num=41, endpoint=True),\n",
    ")\n",
    "test_1 = test_1.flatten()\n",
    "test_2 = test_2.flatten()\n",
    "test_X = np.array([test_1, test_2]).transpose()\n",
    "y_hat = knn_clf.predict(test_X)"
   ],
   "metadata": {
    "collapsed": false
   }
  },
  {
   "cell_type": "code",
   "execution_count": 13,
   "outputs": [
    {
     "data": {
      "text/plain": "<Figure size 720x720 with 1 Axes>",
      "image/png": "[encoded data removed]"
     },
     "metadata": {
      "needs_background": "light"
     },
     "output_type": "display_data"
    }
   ],
   "source": [
    "fig = plt.figure(figsize=(10, 10))\n",
    "plt.plot(test_1[y_hat], test_2[y_hat], color='red', marker='.', markersize=5, linestyle='none')\n",
    "plt.plot(test_1[~y_hat], test_2[~y_hat], color='blue', marker='.', markersize=5, linestyle='none')\n",
    "plt.plot(D2z_df[D2z_df[2] == 1][0], D2z_df[D2z_df[2] == 1][1], color='black', linestyle='none', marker='+')\n",
    "plt.plot(D2z_df[D2z_df[2] == 0][0], D2z_df[D2z_df[2] == 0][1], color='black', fillstyle='none', linestyle='none', marker='o')\n",
    "fig.savefig('p2_q1_d2z.png', dpi=300)"
   ],
   "metadata": {
    "collapsed": false
   }
  },
  {
   "cell_type": "markdown",
   "source": [
    "### Question 2"
   ],
   "metadata": {
    "collapsed": false
   }
  },
  {
   "cell_type": "code",
   "execution_count": 14,
   "outputs": [],
   "source": [
    "emails_df = pd.read_csv(\"data/emails.csv\")\n",
    "emails_X = emails_df.drop(columns=[\"Email No.\", \"Prediction\"])\n",
    "emails_y = emails_df[\"Prediction\"]"
   ],
   "metadata": {
    "collapsed": false
   }
  },
  {
   "cell_type": "code",
   "execution_count": 15,
   "outputs": [],
   "source": [
    "def five_fold_cv(clf, X, y):\n",
    "    num_folds = 5\n",
    "    slice_size = 1000\n",
    "    accuracy = np.zeros(num_folds)\n",
    "    precision = np.zeros(num_folds)\n",
    "    recall = np.zeros(num_folds)\n",
    "    for fold in range(0, num_folds):\n",
    "        start = fold * slice_size\n",
    "        end = (fold + 1) * slice_size\n",
    "        fold_slice = np.arange(start, end, step=1)\n",
    "        test_X = X.iloc[fold_slice]\n",
    "        test_y = y.iloc[fold_slice].to_numpy(dtype=bool).flatten()\n",
    "        train_X = X.iloc[~X.index.isin(fold_slice)]\n",
    "        train_y = y.iloc[~X.index.isin(fold_slice)].to_numpy(dtype=bool).flatten()\n",
    "        clf.fit(train_X, train_y)\n",
    "        y_hat = clf.predict(test_X)\n",
    "        tp = 0\n",
    "        fp = 0\n",
    "        tn = 0\n",
    "        fn = 0\n",
    "        for predicted, actual in zip(y_hat, test_y):\n",
    "            if actual and predicted is actual:\n",
    "                tp += 1\n",
    "            elif actual:\n",
    "                fn += 1\n",
    "            elif predicted is actual:\n",
    "                tn += 1\n",
    "            else:\n",
    "                fp += 1\n",
    "        accuracy[fold] = (tp + tn)/(tp + tn + fp + fn)\n",
    "        precision[fold] = tp/(tp + fp)\n",
    "        recall[fold] = tp/(tp + fn)\n",
    "\n",
    "    return pd.DataFrame({\n",
    "        \"Fold\": np.arange(1, num_folds + 1, dtype=int),\n",
    "        \"Accuracy\": accuracy,\n",
    "        \"Precision\": precision,\n",
    "        \"Recall\": recall,\n",
    "    })"
   ],
   "metadata": {
    "collapsed": false
   }
  },
  {
   "cell_type": "code",
   "execution_count": 16,
   "outputs": [],
   "source": [
    "res_df = five_fold_cv(knn_clf, emails_X, emails_y)"
   ],
   "metadata": {
    "collapsed": false
   }
  },
  {
   "cell_type": "code",
   "execution_count": 17,
   "outputs": [
    {
     "data": {
      "text/plain": "   Fold  Accuracy  Precision    Recall\n0     1     0.825   0.654494  0.817544\n1     2     0.853   0.685714  0.866426\n2     3     0.862   0.721212  0.838028\n3     4     0.851   0.716418  0.816327\n4     5     0.775   0.605744  0.758170",
      "text/html": "<div>\n<style scoped>\n    .dataframe tbody tr th:only-of-type {\n        vertical-align: middle;\n    }\n\n    .dataframe tbody tr th {\n        vertical-align: top;\n    }\n\n    .dataframe thead th {\n        text-align: right;\n    }\n</style>\n<table border=\"1\" class=\"dataframe\">\n  <thead>\n    <tr style=\"text-align: right;\">\n      <th></th>\n      <th>Fold</th>\n      <th>Accuracy</th>\n      <th>Precision</th>\n      <th>Recall</th>\n    </tr>\n  </thead>\n  <tbody>\n    <tr>\n      <th>0</th>\n      <td>1</td>\n      <td>0.825</td>\n      <td>0.654494</td>\n      <td>0.817544</td>\n    </tr>\n    <tr>\n      <th>1</th>\n      <td>2</td>\n      <td>0.853</td>\n      <td>0.685714</td>\n      <td>0.866426</td>\n    </tr>\n    <tr>\n      <th>2</th>\n      <td>3</td>\n      <td>0.862</td>\n      <td>0.721212</td>\n      <td>0.838028</td>\n    </tr>\n    <tr>\n      <th>3</th>\n      <td>4</td>\n      <td>0.851</td>\n      <td>0.716418</td>\n      <td>0.816327</td>\n    </tr>\n    <tr>\n      <th>4</th>\n      <td>5</td>\n      <td>0.775</td>\n      <td>0.605744</td>\n      <td>0.758170</td>\n    </tr>\n  </tbody>\n</table>\n</div>"
     },
     "execution_count": 17,
     "metadata": {},
     "output_type": "execute_result"
    }
   ],
   "source": [
    "res_df.head()"
   ],
   "metadata": {
    "collapsed": false
   }
  },
  {
   "cell_type": "markdown",
   "source": [
    "### Question 3"
   ],
   "metadata": {
    "collapsed": false
   }
  },
  {
   "cell_type": "code",
   "execution_count": 18,
   "outputs": [],
   "source": [
    "class LogisticRegression:\n",
    "\n",
    "    def __init__(self):\n",
    "        self.thetas = None\n",
    "\n",
    "    def fit(self, X, y, eta=0.1, tol=0.00001, max_iterations=1000):\n",
    "        X = np.array(X)\n",
    "        y = np.array(y)\n",
    "        n, p = np.shape(X)\n",
    "        eta = eta/n\n",
    "        thetas = np.zeros(p)\n",
    "        for iteration in range(0, max_iterations):\n",
    "            grad_l = np.zeros(p)\n",
    "            theta_X = -np.matmul(thetas, X.transpose())\n",
    "            for i in range(0, n):\n",
    "                grad_l += (1/(1+np.exp(theta_X[i])) - y[i]) * X[i]\n",
    "            next_thetas = thetas - eta * grad_l\n",
    "            diff = np.sqrt(np.sum(np.square(next_thetas - thetas)))/np.sqrt(np.sum(np.square(next_thetas)))\n",
    "            thetas = next_thetas\n",
    "            if diff < tol:\n",
    "                break\n",
    "\n",
    "        self.thetas = thetas\n",
    "        return self.thetas\n",
    "\n",
    "    def predict(self, X):\n",
    "        X = np.array(X)\n",
    "        n, p = np.shape(X)\n",
    "        y = np.zeros(n)\n",
    "        for i in range(0, n):\n",
    "            y[i] = 1/(1+np.exp(-np.dot(self.thetas, X[i])))\n",
    "        return np.array([y_i > 0.5 for y_i in y], dtype=bool)\n",
    "\n",
    "    def predict_proba(self, X):\n",
    "        X = np.array(X)\n",
    "        n, p = np.shape(X)\n",
    "        y = np.zeros(n)\n",
    "        for i in range(0, n):\n",
    "            y[i] = 1/(1+np.exp(-np.dot(self.thetas, X[i])))\n",
    "        return [(1 - p_true, p_true) for p_true in y]"
   ],
   "metadata": {
    "collapsed": false
   }
  },
  {
   "cell_type": "code",
   "execution_count": 19,
   "outputs": [
    {
     "name": "stderr",
     "output_type": "stream",
     "text": [
      "C:\\Users\\kaise\\AppData\\Local\\Temp\\ipykernel_12360\\1218572536.py:16: RuntimeWarning: overflow encountered in exp\n",
      "  grad_l += (1/(1+np.exp(theta_X[i])) - y[i]) * X[i]\n",
      "C:\\Users\\kaise\\AppData\\Local\\Temp\\ipykernel_12360\\1218572536.py:31: RuntimeWarning: overflow encountered in exp\n",
      "  y[i] = 1/(1+np.exp(-np.dot(self.thetas, X[i])))\n"
     ]
    },
    {
     "data": {
      "text/plain": "   Fold  Accuracy  Precision    Recall\n0     1     0.909   0.891129  0.775439\n1     2     0.854   0.901840  0.530686\n2     3     0.889   0.821561  0.778169\n3     4     0.843   0.663484  0.945578\n4     5     0.849   0.785978  0.696078",
      "text/html": "<div>\n<style scoped>\n    .dataframe tbody tr th:only-of-type {\n        vertical-align: middle;\n    }\n\n    .dataframe tbody tr th {\n        vertical-align: top;\n    }\n\n    .dataframe thead th {\n        text-align: right;\n    }\n</style>\n<table border=\"1\" class=\"dataframe\">\n  <thead>\n    <tr style=\"text-align: right;\">\n      <th></th>\n      <th>Fold</th>\n      <th>Accuracy</th>\n      <th>Precision</th>\n      <th>Recall</th>\n    </tr>\n  </thead>\n  <tbody>\n    <tr>\n      <th>0</th>\n      <td>1</td>\n      <td>0.909</td>\n      <td>0.891129</td>\n      <td>0.775439</td>\n    </tr>\n    <tr>\n      <th>1</th>\n      <td>2</td>\n      <td>0.854</td>\n      <td>0.901840</td>\n      <td>0.530686</td>\n    </tr>\n    <tr>\n      <th>2</th>\n      <td>3</td>\n      <td>0.889</td>\n      <td>0.821561</td>\n      <td>0.778169</td>\n    </tr>\n    <tr>\n      <th>3</th>\n      <td>4</td>\n      <td>0.843</td>\n      <td>0.663484</td>\n      <td>0.945578</td>\n    </tr>\n    <tr>\n      <th>4</th>\n      <td>5</td>\n      <td>0.849</td>\n      <td>0.785978</td>\n      <td>0.696078</td>\n    </tr>\n  </tbody>\n</table>\n</div>"
     },
     "execution_count": 19,
     "metadata": {},
     "output_type": "execute_result"
    }
   ],
   "source": [
    "lg_clf = LogisticRegression()\n",
    "res_df = five_fold_cv(lg_clf, emails_X, emails_y)\n",
    "res_df.head()"
   ],
   "metadata": {
    "collapsed": false
   }
  },
  {
   "cell_type": "markdown",
   "source": [
    "### Question 4"
   ],
   "metadata": {
    "collapsed": false
   }
  },
  {
   "cell_type": "code",
   "execution_count": 20,
   "outputs": [
    {
     "data": {
      "text/plain": "<Figure size 432x288 with 1 Axes>",
      "image/png": "[encoded data removed]"
     },
     "metadata": {
      "needs_background": "light"
     },
     "output_type": "display_data"
    }
   ],
   "source": [
    "ks = [1, 3, 5, 7, 10]\n",
    "accuracy = np.zeros(len(ks))\n",
    "for n, k in enumerate(ks):\n",
    "    knn_clf = KNeighborsClassifier(n_neighbors=k, p=2)\n",
    "    res_df = five_fold_cv(knn_clf, emails_X, emails_y)\n",
    "    accuracy[n] = res_df[\"Accuracy\"].mean()\n",
    "plt.plot(ks, accuracy)\n",
    "plt.xlabel(\"k\")\n",
    "plt.ylabel(\"Average Accuracy\")\n",
    "plt.title(\"kNN 5-Fold Cross Validation\")\n",
    "plt.savefig(\"p2_q4.png\")"
   ],
   "metadata": {
    "collapsed": false
   }
  },
  {
   "cell_type": "markdown",
   "source": [
    "### Question 5"
   ],
   "metadata": {
    "collapsed": false
   }
  },
  {
   "cell_type": "code",
   "execution_count": 21,
   "outputs": [
    {
     "name": "stderr",
     "output_type": "stream",
     "text": [
      "C:\\Users\\kaise\\AppData\\Local\\Temp\\ipykernel_12360\\1218572536.py:16: RuntimeWarning: overflow encountered in exp\n",
      "  grad_l += (1/(1+np.exp(theta_X[i])) - y[i]) * X[i]\n",
      "C:\\Users\\kaise\\AppData\\Local\\Temp\\ipykernel_12360\\1218572536.py:39: RuntimeWarning: overflow encountered in exp\n",
      "  y[i] = 1/(1+np.exp(-np.dot(self.thetas, X[i])))\n"
     ]
    },
    {
     "data": {
      "text/plain": "<Figure size 432x288 with 1 Axes>",
      "image/png": "[encoded data removed]"
     },
     "metadata": {
      "needs_background": "light"
     },
     "output_type": "display_data"
    }
   ],
   "source": [
    "def roc_auc(clf, X, y):\n",
    "    start = 4000\n",
    "    end = 5000\n",
    "    fold_slice = np.arange(start, end, step=1)\n",
    "    test_X = X.iloc[fold_slice]\n",
    "    test_y = y.iloc[fold_slice].to_numpy(dtype=bool).flatten()\n",
    "    train_X = X.iloc[~X.index.isin(fold_slice)]\n",
    "    train_y = y.iloc[~X.index.isin(fold_slice)].to_numpy(dtype=bool).flatten()\n",
    "    clf.fit(train_X, train_y)\n",
    "    p_y_hat = clf.predict_proba(test_X)\n",
    "    thresholds = np.linspace(0, 1.01, num=101, endpoint=True)\n",
    "    tpr = np.zeros(len(thresholds))\n",
    "    fpr = np.zeros(len(thresholds))\n",
    "    for n, t in enumerate(thresholds):\n",
    "        y_hat = np.array([p_true >= t for p_false, p_true in p_y_hat])\n",
    "        tp = 0\n",
    "        fp = 0\n",
    "        tn = 0\n",
    "        fn = 0\n",
    "        for predicted, actual in zip(y_hat, test_y):\n",
    "            if actual and predicted is actual:\n",
    "                tp += 1\n",
    "            elif actual:\n",
    "                fn += 1\n",
    "            elif predicted is actual:\n",
    "                tn += 1\n",
    "            else:\n",
    "                fp += 1\n",
    "        tpr[n] = tp/(tp+fn)\n",
    "        fpr[n] = fp/(tn+fp)\n",
    "\n",
    "    auc = 0\n",
    "    for n in range(0, len(thresholds)-1):\n",
    "        auc += (fpr[n] - fpr[n+1])*(tpr[n+1] + tpr[n])/2\n",
    "    return tpr, fpr, auc\n",
    "\n",
    "X = emails_X\n",
    "y = emails_y\n",
    "knn_clf = KNeighborsClassifier(n_neighbors=5, p=2)\n",
    "knn_tpr, knn_fpr, knn_auc = roc_auc(knn_clf, X, y)\n",
    "lg_clf = LogisticRegression()\n",
    "lg_tpr, lg_fpr, lg_auc = roc_auc(lg_clf, X, y)\n",
    "plt.plot(knn_fpr, knn_tpr, label=f\"KNeighborsClassifier (AUC = {knn_auc:2.2f}\")\n",
    "plt.plot(lg_fpr, lg_tpr, label=f\"LogisticRegression (AUC = {lg_auc:2.2f}\")\n",
    "plt.plot([0, 1], [0, 1], linestyle='--')\n",
    "plt.xlim([0.0, 1.0])\n",
    "plt.ylim([0.0, 1.0])\n",
    "plt.xlabel('False Positive Rate')\n",
    "plt.ylabel('True Positive Rate')\n",
    "plt.legend()\n",
    "plt.savefig('q2_5_roc.png')"
   ],
   "metadata": {
    "collapsed": false
   }
  },
  {
   "cell_type": "code",
   "execution_count": 21,
   "outputs": [],
   "source": [],
   "metadata": {
    "collapsed": false
   }
  }
 ],
 "metadata": {
  "kernelspec": {
   "display_name": "Python 3",
   "language": "python",
   "name": "python3"
  },
  "language_info": {
   "codemirror_mode": {
    "name": "ipython",
    "version": 2
   },
   "file_extension": ".py",
   "mimetype": "text/x-python",
   "name": "python",
   "nbconvert_exporter": "python",
   "pygments_lexer": "ipython2",
   "version": "2.7.6"
  }
 },
 "nbformat": 4,
 "nbformat_minor": 0
}
